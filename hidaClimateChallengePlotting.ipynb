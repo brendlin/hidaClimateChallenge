{
 "cells": [
  {
   "cell_type": "markdown",
   "metadata": {},
   "source": [
    "First, import the dataset and convert it into a pandas dataframe:\n",
    "----------"
   ]
  },
  {
   "cell_type": "code",
   "execution_count": null,
   "metadata": {},
   "outputs": [],
   "source": [
    "import xarray as xr\n",
    "import pandas as pd\n",
    "import numpy as np\n",
    "\n",
    "# Helper functions used in other parts of the code\n",
    "import HelperModules"
   ]
  },
  {
   "cell_type": "code",
   "execution_count": null,
   "metadata": {},
   "outputs": [],
   "source": [
    "ds = xr.open_dataset('MyChallengePaleo/T2m_R1_ym_1stMill.nc')\n",
    "T2m_R1 = ds.to_dataframe()['T2m']\n",
    "T2m_R1"
   ]
  },
  {
   "cell_type": "markdown",
   "metadata": {},
   "source": [
    "Seems like we are using a pandas MultiIndex, so let's learn a little bit about that:\n",
    "-----"
   ]
  },
  {
   "cell_type": "code",
   "execution_count": null,
   "metadata": {},
   "outputs": [],
   "source": [
    "T2m_R1.index.names"
   ]
  },
  {
   "cell_type": "markdown",
   "metadata": {},
   "source": [
    "Now, we want to plot some of the data. How do we do that? Let's first see what times are available... and find the first available time.\n",
    "--------"
   ]
  },
  {
   "cell_type": "code",
   "execution_count": null,
   "metadata": {},
   "outputs": [],
   "source": [
    "print(T2m_R1.index.get_level_values('time'))\n",
    "print(min(list(T2m_R1.index.get_level_values('time'))))"
   ]
  },
  {
   "cell_type": "markdown",
   "metadata": {},
   "source": [
    "We use the \"xs\" tool to get a slice of the data corresponding to the earliest time:\n",
    "--------\n",
    "And we put it into a little function called `getTimeSlice` (in HelperModules) so that we can spot-check different years..."
   ]
  },
  {
   "cell_type": "code",
   "execution_count": null,
   "metadata": {},
   "outputs": [],
   "source": [
    "slice0 = HelperModules.getTimeSlice(T2m_R1,1)\n",
    "slice0"
   ]
  },
  {
   "cell_type": "code",
   "execution_count": null,
   "metadata": {},
   "outputs": [],
   "source": [
    "# We could turn this into a flat dataframe, but in the end I think we do not need to do this.\n",
    "# Let's keep the code around in any case.\n",
    "\n",
    "#slice0_df = slice0.reset_index(inplace=False)\n",
    "#slice0_df"
   ]
  },
  {
   "cell_type": "markdown",
   "metadata": {},
   "source": [
    "Let's take the MultiIndexed data that we hvae and use \"unstack\" to turn it into a standard python dataframe, where rows are latitude and columns are longitude.\n",
    "-----\n",
    "We will also reset the longitude to run from -180 to +180, in order to get it working more smoothly with the plotting."
   ]
  },
  {
   "cell_type": "code",
   "execution_count": null,
   "metadata": {
    "scrolled": true
   },
   "outputs": [],
   "source": [
    "# \"Unstack\" the multiindex data:\n",
    "unstacked = HelperModules.Unstack(slice0)\n",
    "unstacked"
   ]
  },
  {
   "cell_type": "markdown",
   "metadata": {},
   "source": [
    "Okay, this seems like something we can plot! Let's now try to figure out how to plot this.\n",
    "-------\n",
    "For this we will use **cartopy** (in python3, on a mac). I had a bit of difficulty finding a recipe that worked, here it is below:\n",
    "```\n",
    "brew extract --version=5.2.0 proj $USER/local-tap\n",
    "brew install proj@5.2.0\n",
    "pip3 install cartopy\n",
    "```\n",
    "Now we use matplotlib and cartopy to make the world-map plots.\n",
    "-------"
   ]
  },
  {
   "cell_type": "code",
   "execution_count": null,
   "metadata": {},
   "outputs": [],
   "source": [
    "import matplotlib.pyplot as plt\n",
    "import cartopy.crs as ccrs"
   ]
  },
  {
   "cell_type": "markdown",
   "metadata": {},
   "source": [
    "Now let's try to plot our data on a map like this.\n",
    "------------"
   ]
  },
  {
   "cell_type": "code",
   "execution_count": null,
   "metadata": {},
   "outputs": [],
   "source": [
    "fig = plt.figure(figsize=(10, 4))\n",
    "ax = fig.add_subplot(1, 1, 1, projection=ccrs.PlateCarree())\n",
    "\n",
    "# Make the mesh grid\n",
    "lon = unstacked.columns\n",
    "lat = unstacked.index\n",
    "m_lon, m_lat = np.meshgrid(lon, lat)\n",
    "\n",
    "the_contour = ax.contourf(m_lon, m_lat,unstacked.values,transform=ccrs.PlateCarree())\n",
    "fig.colorbar(the_contour)\n",
    "ax.set_global()\n",
    "ax.coastlines()"
   ]
  },
  {
   "cell_type": "markdown",
   "metadata": {},
   "source": [
    "Great - now let's put it into a function!\n",
    "------------\n",
    "You can see the function `plotTimeSlice(...)` in the HelperModules file."
   ]
  },
  {
   "cell_type": "code",
   "execution_count": null,
   "metadata": {},
   "outputs": [],
   "source": [
    "fig = plt.figure(figsize=(10, 4))\n",
    "ax = fig.add_subplot(1, 1, 1, projection=ccrs.PlateCarree())\n",
    "HelperModules.plotTimeSlice(T2m_R1,1,fig,ax,vmin=200,vmax=350)"
   ]
  },
  {
   "cell_type": "markdown",
   "metadata": {},
   "source": [
    "Getting to know the data better\n",
    "=================\n",
    "What datasets are available to us? \n",
    "\n",
    "| File                      | Shape | Description and Notes |\n",
    "| :----                     | :---  | :----                 |\n",
    "| T2m_R1_ym_1stMill.nc      | (192,96,999) lon, lat, time | Annual means for the simulation periods 1–999 AD. 2m-temperatures. |\n",
    "| T2m_R2_ym_1stMill.nc      | | Same thing, but a different simulation. The same set of changes in external forcing drives these two simulations, but they differ slightly in their initial conditions, reflecting our ignorance of the actual conditions at the time. |\n",
    "| Solar_forcing_1st_mill.nc | (1,1,999) lev, time, x | Solar forcing. The curve shows the forcing time series of the Total Solar Irradiance changes in units of Wm-2. |\n",
    "| Volc_Forc_AOD_1st_mill.nc | | Volcanic forcing. The files includes the so-called Aerosol Optical Depth (AOD) as time series. High values indicate a high sulfate load in the stratosphere, leading to a reflection and absorption of incoming short wave radiation in the stratosphere with the net-effectof a decrease in global mean temperatures.  |\n",
    "\n",
    "Let us load these files to get a better idea (we have already loaded T2m_R1)."
   ]
  },
  {
   "cell_type": "markdown",
   "metadata": {},
   "source": [
    "Solar Forcing\n",
    "------"
   ]
  },
  {
   "cell_type": "code",
   "execution_count": null,
   "metadata": {},
   "outputs": [],
   "source": [
    "ds = xr.open_dataset('MyChallengePaleo/Solar_forcing_1st_mill.nc')\n",
    "TSI = ds.to_dataframe()['TSI']\n",
    "# \"lev\" and \"x\" seem to be meaningless, so let's get rid of them and turn the series into a dataframe.\n",
    "TSI = TSI.xs((1.0)).xs(0,level='x').to_frame()\n",
    "TSI = TSI.reset_index()\n",
    "TSI['time_yr'] = np.round(TSI['time']/10000)\n",
    "TSI"
   ]
  },
  {
   "cell_type": "markdown",
   "metadata": {},
   "source": [
    "Volcanic Forcing\n",
    "-----------"
   ]
  },
  {
   "cell_type": "code",
   "execution_count": null,
   "metadata": {},
   "outputs": [],
   "source": [
    "ds = xr.open_dataset('MyChallengePaleo/Volc_Forc_AOD_1st_mill.nc')\n",
    "AOD = ds.to_dataframe()['AOD']\n",
    "AOD = AOD.xs((1.0)).xs(0,level='x').to_frame()\n",
    "AOD = AOD.reset_index()\n",
    "AOD['time_yr'] = np.round(AOD['time']/10000)\n",
    "AOD"
   ]
  },
  {
   "cell_type": "markdown",
   "metadata": {},
   "source": [
    "Let's plot both!\n",
    "------\n",
    "In the first plot, we plot three things: solar forcing, the rolling-average of the solar forcing (to remove the 11-year cycle), and the volcanic forcing.\n",
    "\n",
    "We will also plot a few dots on the first plot, to be able to isolate certain years of interest for us.\n",
    "\n",
    "Below that, we plot maps of the two years of interest, so we can compare them visually."
   ]
  },
  {
   "cell_type": "code",
   "execution_count": null,
   "metadata": {},
   "outputs": [],
   "source": [
    "fig, ax1 = plt.subplots(figsize=(15, 5))\n",
    "\n",
    "# Let's make a little snapshot-picker piece of code\n",
    "snapshot_year = 517.0\n",
    "snapshot_aod = AOD[AOD['time_yr'] == snapshot_year]\n",
    "snapshot_tsi = TSI[TSI['time_yr'] == snapshot_year]\n",
    "\n",
    "snapshot_year_b = 532.0\n",
    "snapshot_aod_b = AOD[AOD['time_yr'] == snapshot_year_b]\n",
    "snapshot_tsi_b = TSI[TSI['time_yr'] == snapshot_year_b]\n",
    "\n",
    "# Solar forcing\n",
    "color = 'gray'\n",
    "ax1.plot(TSI['time_yr'],TSI['TSI'],label='solar irradiance',color=color)\n",
    "ax1.scatter(snapshot_tsi['time_yr'],snapshot_tsi['TSI'],color='tab:red')\n",
    "ax1.scatter(snapshot_tsi_b['time_yr'],snapshot_tsi_b['TSI'],color='tab:green')\n",
    "ax1.set_xlabel('time (year)')\n",
    "ax1.set_ylabel('Solar irradiance [Wm$^{-2}$]',color=color)\n",
    "ax1.tick_params(axis='y', labelcolor=color)\n",
    "\n",
    "# Rolling-average solar forcing\n",
    "ax1.plot(TSI['time_yr'],TSI['TSI'].rolling(window=11,center=True).mean(),label='solar irradiance (11-yr mean)',color='tab:red')\n",
    "\n",
    "# Volcanic forcing\n",
    "color = 'tab:blue'\n",
    "ax2 = ax1.twinx()\n",
    "ax2.plot(AOD['time_yr'],AOD['AOD'],label='volcanic AOD',color=color)\n",
    "ax2.scatter(snapshot_aod['time_yr'],snapshot_aod['AOD'],color='tab:red')\n",
    "ax2.scatter(snapshot_aod_b['time_yr'],snapshot_aod_b['AOD'],color='tab:green')\n",
    "ax2.set_ylabel('Aerosol Optical Depth',color=color)\n",
    "ax2.tick_params(axis='y', labelcolor=color)\n",
    "\n",
    "# Two snapshots, representing the two chosen years for visual comparison.\n",
    "figcompare = plt.figure(figsize=(20, 4))\n",
    "ax_compare = figcompare.add_subplot(1, 2, 1, projection=ccrs.PlateCarree())\n",
    "ax_compare2 = figcompare.add_subplot(1, 2, 2, projection=ccrs.PlateCarree())\n",
    "\n",
    "HelperModules.plotTimeSlice(T2m_R1,snapshot_year,figcompare,ax_compare,vmin=210,vmax=315)\n",
    "HelperModules.plotTimeSlice(T2m_R1,snapshot_year_b,figcompare,ax_compare2,vmin=210,vmax=315)"
   ]
  },
  {
   "cell_type": "markdown",
   "metadata": {},
   "source": [
    "Engineering some Features from the Temperature Data\n",
    "-------------\n",
    "Start with some basic things, like global average temperature. We can use this to show that short-term trends of the global average can reveal spikes revealing volcanic activity.\n",
    "\n",
    "\n",
    "Spatial average (global temperature average)\n",
    "-----------"
   ]
  },
  {
   "cell_type": "code",
   "execution_count": null,
   "metadata": {},
   "outputs": [],
   "source": [
    "fig = plt.figure(figsize=(20, 5))\n",
    "ax = fig.add_subplot(1, 1, 1)\n",
    "spacial_averaged = T2m_R1.groupby('time').mean()\n",
    "p1 = ax.plot(AOD['time_yr'],AOD['AOD'],label='volcanic AOD',color='gray')\n",
    "p2 = ax.plot(TSI['time_yr'],0.3*(-1363.0+TSI['TSI'].rolling(window=11,center=True).mean()),label='solar irradiance (11-yr mean), arb. units',color='red')\n",
    "ax.set_ylabel('Aerosol Optical Depth',color='gray')\n",
    "ax.set_ylim(0,0.9)\n",
    "\n",
    "ax2 = ax.twinx()\n",
    "p3 = ax2.plot(np.round(spacial_averaged.index/10000),list(spacial_averaged.values),label='Average global temperature')\n",
    "ax2.set_ylabel('Average global temperature',color='tab:blue')\n",
    "ax2.tick_params(axis='y', labelcolor='tab:blue')\n",
    "ax2.set_ylim(274.5,278.3)\n",
    "\n",
    "labs = [l.get_label() for l in p1+p2+p3]\n",
    "ax.legend(p1+p2+p3, labs, loc=3)\n",
    "\n",
    "plt.show()"
   ]
  },
  {
   "cell_type": "markdown",
   "metadata": {},
   "source": [
    "Temporal average (local temperature average over time)\n",
    "-----\n",
    "Let's see if we can improve our visualization by establishing a baseline temperature at each longitude and latitude:"
   ]
  },
  {
   "cell_type": "code",
   "execution_count": null,
   "metadata": {},
   "outputs": [],
   "source": [
    "temporal_averaged = T2m_R1.groupby(['lat','lon']).mean()\n",
    "temporal_averaged"
   ]
  },
  {
   "cell_type": "code",
   "execution_count": null,
   "metadata": {},
   "outputs": [],
   "source": [
    "figcompare = plt.figure(figsize=(10, 5))\n",
    "ax = figcompare.add_subplot(1, 1, 1, projection=ccrs.PlateCarree())\n",
    "HelperModules.plotMap(temporal_averaged,figcompare,ax)"
   ]
  },
  {
   "cell_type": "markdown",
   "metadata": {},
   "source": [
    "Now let's try to plot the anomaly map of a given timeSlice:\n",
    "---------"
   ]
  },
  {
   "cell_type": "code",
   "execution_count": null,
   "metadata": {},
   "outputs": [],
   "source": [
    "fig = plt.figure(figsize=(10, 4))\n",
    "ax = fig.add_subplot(1, 1, 1, projection=ccrs.PlateCarree())\n",
    "#plotMap(getTimeSlice(525) - temporal_averaged,ax)\n",
    "HelperModules.plotMap(temporal_averaged-HelperModules.getTimeSlice(T2m_R1,525),fig,ax,vmin=-5,vmax=5)"
   ]
  },
  {
   "cell_type": "markdown",
   "metadata": {},
   "source": [
    "Now let's try to plot a bunch of time slices in sequence\n",
    "----------\n",
    "This will _maybe_ help us to visualize changes over a relatively short time-span.\n",
    "\n",
    "With this, starting in year 525, we can really see how the northern hemisphere gets cold in response to a surge in volcanic activity."
   ]
  },
  {
   "cell_type": "code",
   "execution_count": null,
   "metadata": {},
   "outputs": [],
   "source": [
    "import matplotlib.gridspec as gridspec\n",
    "\n",
    "nslices = 12\n",
    "start_year = 525\n",
    "\n",
    "# First plot: a sequence of time slices in the years of interest\n",
    "fig = plt.figure(figsize=(14, 10),constrained_layout=True)\n",
    "spec = gridspec.GridSpec(ncols=3, nrows=(1+nslices//3), figure=fig)\n",
    "\n",
    "axes = []\n",
    "for i in range(nslices) :\n",
    "    axes.append(fig.add_subplot(spec[i//3, i%3], projection=ccrs.PlateCarree()))\n",
    "    this_timeslice = HelperModules.getTimeSlice(T2m_R1,start_year+i)\n",
    "    the_contour = HelperModules.plotMap(this_timeslice - temporal_averaged,fig,axes[-1],vmin=-5,vmax=5)\n",
    "    axes[-1].title.set_text('Year %s'%(start_year+i))\n",
    "\n",
    "\n",
    "\n",
    "# Second plot: the solar forcing, vocanic activity and average temperature for that time period.\n",
    "fig = plt.figure(figsize=(5, 5))\n",
    "ax = fig.add_subplot(1, 1, 1)\n",
    "spacial_averaged = T2m_R1.groupby('time').mean()\n",
    "p1 = ax.plot(AOD['time_yr'],AOD['AOD'],label='volcanic AOD',color='gray')\n",
    "p2 = ax.plot(TSI['time_yr'],0.5*(-1365.0+TSI['TSI']),label='solar irradiance (arb units)',color='orange')\n",
    "ax2 = ax.twinx()\n",
    "p3 = ax2.plot(np.round(spacial_averaged.index/10000),list(spacial_averaged.values),label='avg global temperature')\n",
    "\n",
    "labs = [l.get_label() for l in p1+p2+p3]\n",
    "ax.legend(p1+p2+p3, labs, loc=0)\n",
    "\n",
    "plt.xlim(start_year-1,start_year+13)\n",
    "plt.show()"
   ]
  },
  {
   "cell_type": "markdown",
   "metadata": {},
   "source": [
    "Let's Engineer some Features! First let's get a specific slice of latitude (e.g. southern hemisphere)\n",
    "----\n",
    "The function `getLatSlice(...)` lives in the HelperModules file."
   ]
  },
  {
   "cell_type": "code",
   "execution_count": null,
   "metadata": {},
   "outputs": [],
   "source": [
    "HelperModules.getLatSlice(T2m_R1,-999,-60)"
   ]
  }
 ],
 "metadata": {
  "kernelspec": {
   "display_name": "Python 3",
   "language": "python",
   "name": "python3"
  },
  "language_info": {
   "codemirror_mode": {
    "name": "ipython",
    "version": 3
   },
   "file_extension": ".py",
   "mimetype": "text/x-python",
   "name": "python",
   "nbconvert_exporter": "python",
   "pygments_lexer": "ipython3",
   "version": "3.7.7"
  }
 },
 "nbformat": 4,
 "nbformat_minor": 2
}
