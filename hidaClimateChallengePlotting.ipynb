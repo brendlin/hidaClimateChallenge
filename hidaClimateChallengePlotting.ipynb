{
 "cells": [
  {
   "cell_type": "markdown",
   "metadata": {},
   "source": [
    "First, import the dataset and convert it into a pandas dataframe:\n",
    "----------"
   ]
  },
  {
   "cell_type": "code",
   "execution_count": null,
   "metadata": {},
   "outputs": [],
   "source": [
    "import xarray as xr\n",
    "import pandas as pd\n",
    "import numpy as np"
   ]
  },
  {
   "cell_type": "code",
   "execution_count": null,
   "metadata": {},
   "outputs": [],
   "source": [
    "ds = xr.open_dataset('MyChallengePaleo/T2m_R1_ym_1stMill.nc')\n",
    "df = ds.to_dataframe()['T2m']\n",
    "df"
   ]
  },
  {
   "cell_type": "markdown",
   "metadata": {},
   "source": [
    "Seems like we are using a pandas MultiIndex, so let's learn a little bit about that:\n",
    "-----"
   ]
  },
  {
   "cell_type": "code",
   "execution_count": null,
   "metadata": {},
   "outputs": [],
   "source": [
    "df.index.names"
   ]
  },
  {
   "cell_type": "markdown",
   "metadata": {},
   "source": [
    "Now, we want to plot some of the data. How do we do that? Let's first see what times are available... and find the first available time.\n",
    "--------"
   ]
  },
  {
   "cell_type": "code",
   "execution_count": null,
   "metadata": {},
   "outputs": [],
   "source": [
    "print(df.index.get_level_values('time'))\n",
    "print(min(list(df.index.get_level_values('time'))))"
   ]
  },
  {
   "cell_type": "markdown",
   "metadata": {},
   "source": [
    "We use the \"xs\" tool to get a slice of the data corresponding to the earliest time:\n",
    "--------"
   ]
  },
  {
   "cell_type": "code",
   "execution_count": null,
   "metadata": {},
   "outputs": [],
   "source": [
    "slice0 = df.xs(10716.0, level='time')\n",
    "slice0"
   ]
  },
  {
   "cell_type": "code",
   "execution_count": null,
   "metadata": {},
   "outputs": [],
   "source": [
    "# We could turn this into a flat dataframe, but in the end I think we do not need to do this.\n",
    "# Let's keep the code around in any case.\n",
    "\n",
    "#slice0_df = slice0.reset_index(inplace=False)\n",
    "#slice0_df"
   ]
  },
  {
   "cell_type": "markdown",
   "metadata": {},
   "source": [
    "Okay, this seems like something we can plot! Let's now try to figure out how to plot this.\n",
    "-------\n",
    "For this we will use **cartopy** (in python3, on a mac). I had a bit of difficulty finding a recipe that worked, here it is below:\n",
    "```\n",
    "brew extract --version=5.2.0 proj $USER/local-tap\n",
    "brew install proj@5.2.0\n",
    "pip3 install cartopy\n",
    "```\n",
    "Now we use matplotlib and cartopy to make the world-map plots.\n",
    "-------\n",
    "Let's first just find an example online to get a first map plot going:"
   ]
  },
  {
   "cell_type": "code",
   "execution_count": null,
   "metadata": {},
   "outputs": [],
   "source": [
    "import matplotlib.pyplot as plt\n",
    "import cartopy.crs as ccrs"
   ]
  },
  {
   "cell_type": "code",
   "execution_count": null,
   "metadata": {},
   "outputs": [],
   "source": [
    "fig = plt.figure(figsize=(10, 5))\n",
    "ax = fig.add_subplot(1, 1, 1, projection=ccrs.PlateCarree())\n",
    "ax.set_global()\n",
    "ax.stock_img()\n",
    "ax.coastlines()\n",
    "ax.tissot(facecolor='orange', alpha=0.4)"
   ]
  },
  {
   "cell_type": "markdown",
   "metadata": {},
   "source": [
    "Let's take the MultiIndexed data that we hvae and use \"unstack\" to turn it into a more normal dataframe, where rows are latitude and columns are longitude.\n",
    "-----\n",
    "We will also reset the longitude to run from -180 to +180, in order to get it working more smoothly with the plotting."
   ]
  },
  {
   "cell_type": "code",
   "execution_count": null,
   "metadata": {
    "scrolled": true
   },
   "outputs": [],
   "source": [
    "# \"Unstack\" the multiindex data:\n",
    "unstacked = slice0.unstack(fill_value=0)\n",
    "rename_to = dict()\n",
    "for c in unstacked.columns :\n",
    "    rename_to[c] = (c-180)%360-180+15/16\n",
    "\n",
    "unstacked = unstacked.rename(columns=rename_to)\n",
    "columns = unstacked.columns.to_list()\n",
    "columns.sort()\n",
    "unstacked = unstacked[columns]\n",
    "unstacked\n"
   ]
  },
  {
   "cell_type": "markdown",
   "metadata": {},
   "source": [
    "Now let's try to plot our data on a map like this.\n",
    "------------"
   ]
  },
  {
   "cell_type": "code",
   "execution_count": null,
   "metadata": {},
   "outputs": [],
   "source": [
    "fig = plt.figure(figsize=(10, 5))\n",
    "ax = fig.add_subplot(1, 1, 1, projection=ccrs.PlateCarree())\n",
    "\n",
    "# Make the mesh grid\n",
    "lon = unstacked.columns\n",
    "lat = unstacked.index\n",
    "m_lon, m_lat = np.meshgrid(lon, lat)\n",
    "\n",
    "ax.contourf(m_lon, m_lat,unstacked.values,transform=ccrs.PlateCarree())\n",
    "ax.set_global()\n",
    "ax.coastlines()"
   ]
  },
  {
   "cell_type": "code",
   "execution_count": null,
   "metadata": {},
   "outputs": [],
   "source": []
  }
 ],
 "metadata": {
  "kernelspec": {
   "display_name": "Python 3",
   "language": "python",
   "name": "python3"
  },
  "language_info": {
   "codemirror_mode": {
    "name": "ipython",
    "version": 3
   },
   "file_extension": ".py",
   "mimetype": "text/x-python",
   "name": "python",
   "nbconvert_exporter": "python",
   "pygments_lexer": "ipython3",
   "version": "3.7.7"
  }
 },
 "nbformat": 4,
 "nbformat_minor": 2
}
