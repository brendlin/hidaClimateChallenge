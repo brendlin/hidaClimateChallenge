{
 "cells": [
  {
   "cell_type": "markdown",
   "metadata": {},
   "source": [
    "Initial setup:\n",
    "-----------------"
   ]
  },
  {
   "cell_type": "code",
   "execution_count": null,
   "metadata": {},
   "outputs": [],
   "source": [
    "import xarray as xr\n",
    "import pandas as pd\n",
    "import numpy as np\n",
    "import matplotlib.pyplot as plt\n",
    "\n",
    "# Helper functions used in other parts of the code\n",
    "import HelperModules\n",
    "\n",
    "ds = xr.open_dataset('MyChallengePaleo/T2m_R1_ym_1stMill.nc')\n",
    "T2m_R1 = ds.to_dataframe()['T2m']\n",
    "\n",
    "TSI = HelperModules.getForcingData('MyChallengePaleo/Solar_forcing_1st_mill.nc','TSI')"
   ]
  },
  {
   "cell_type": "markdown",
   "metadata": {},
   "source": [
    "See if we can get a baseline solar cycle fitted\n",
    "-----------"
   ]
  },
  {
   "cell_type": "code",
   "execution_count": null,
   "metadata": {},
   "outputs": [],
   "source": [
    "#from scipy.optimize import least_squares\n",
    "fig = plt.figure(figsize=(20, 5))\n",
    "ax = fig.add_subplot(1, 1, 1)\n",
    "spacial_averaged = T2m_R1.groupby('time').mean()\n",
    "ax.plot(np.round(spacial_averaged.index/10000),list(spacial_averaged.values),label='global average')\n",
    "\n",
    "southern_hemisphere = HelperModules.getLatSlice(T2m_R1,-999,-80)\n",
    "southern_hemisphere_averaged = southern_hemisphere.groupby('time').mean()\n",
    "\n",
    "northern_hemisphere = HelperModules.getLatSlice(T2m_R1,85,999)\n",
    "northern_hemisphere_averaged = northern_hemisphere.groupby('time').mean()\n",
    "\n",
    "ax.plot(np.round(southern_hemisphere_averaged.index/10000),27+np.array(southern_hemisphere_averaged.values),label='southern hemisphere')\n",
    "ax.plot(np.round(northern_hemisphere_averaged.index/10000),23+np.array(northern_hemisphere_averaged.values),label='northern hemisphere')\n",
    "plt.legend()\n",
    "\n",
    "ax2 = ax.twinx()\n",
    "ax2.plot(TSI['time_yr'],TSI['TSI'],label='solar irradiance',color='gray')\n",
    "ax2.set_xlabel('time (year)')\n",
    "ax2.set_ylabel('Solar irradiance [Wm$^{-2}$]',color='gray')\n",
    "ax2.tick_params(axis='y', labelcolor='gray')\n",
    "\n",
    "plt.legend()\n",
    "plt.show()"
   ]
  },
  {
   "cell_type": "markdown",
   "metadata": {},
   "source": [
    "Ok now we try a very simple fit (this does not seem to work very well...):\n",
    "---------"
   ]
  },
  {
   "cell_type": "code",
   "execution_count": null,
   "metadata": {},
   "outputs": [],
   "source": [
    "from scipy.optimize import leastsq\n",
    "import math\n",
    "\n",
    "t = southern_hemisphere_averaged.index/10000\n",
    "data = southern_hemisphere_averaged.values\n",
    "\n",
    "guess_mean = np.mean(data)\n",
    "print('guess_mean :',guess_mean)\n",
    "guess_std = 3*np.std(data)/(2**0.5)/(2**0.5)\n",
    "guess_phase = 8\n",
    "guess_freq = (2*math.pi)/11.\n",
    "guess_amp = 1\n",
    "\n",
    "# we'll use this to plot our first estimate. This might already be good enough for you\n",
    "data_first_guess = guess_std*np.sin(guess_freq*t+guess_phase) + guess_mean\n",
    "\n",
    "# Define the function to optimize, in this case, we want to minimize the difference\n",
    "# between the actual data and our \"guessed\" parameters\n",
    "optimize_func = lambda x: x[0]*np.sin(x[1]*t+x[2]) + x[3] - data\n",
    "est_amp, est_freq, est_phase, est_mean = leastsq(optimize_func, [guess_amp, guess_freq, guess_phase, guess_mean])[0]\n",
    "\n",
    "# recreate the fitted curve using the optimized parameters\n",
    "data_fit = est_amp*np.sin(est_freq*t+est_phase) + est_mean\n",
    "\n",
    "# recreate the fitted curve using the optimized parameters\n",
    "\n",
    "fine_t = np.arange(0,max(t),0.1)\n",
    "data_fit=est_amp*np.sin(est_freq*fine_t+est_phase)+est_mean\n",
    "\n",
    "fig = plt.figure(figsize=(20, 5))\n",
    "ax = fig.add_subplot(1, 1, 1)\n",
    "ax.plot(t, data, '.')\n",
    "ax.plot(t, data_first_guess, label='first guess')\n",
    "ax.plot(fine_t, data_fit, label='after fitting')\n",
    "ax.legend()\n",
    "\n",
    "ax2 = ax.twinx()\n",
    "ax2.plot(TSI['time_yr'],TSI['TSI'],label='solar irradiance',color='gray')\n",
    "ax2.set_xlabel('time (year)')\n",
    "ax2.set_ylabel('Solar irradiance [Wm$^{-2}$]',color='gray')\n",
    "ax2.tick_params(axis='y', labelcolor='gray')\n",
    "\n",
    "plt.xlim(500,600)\n",
    "plt.show()"
   ]
  },
  {
   "cell_type": "markdown",
   "metadata": {},
   "source": [
    "Trying to get the phase and frequency via the correlations... but I do not think that this is straightforwardly interpretable.\n",
    "------\n",
    "Because once you find the correct frequency, then indeed maybe there is no residual correlation in the data."
   ]
  },
  {
   "cell_type": "code",
   "execution_count": null,
   "metadata": {},
   "outputs": [],
   "source": [
    "import seaborn as sns\n",
    "\n",
    "t = southern_hemisphere_averaged.index/10000\n",
    "data = southern_hemisphere_averaged.values\n",
    "\n",
    "guess_mean = np.mean(data)\n",
    "print('guess_mean:',guess_mean)\n",
    "guess_std = 3*np.std(data)/(2**0.5)/(2**0.5)\n",
    "guess_phase = 0\n",
    "guess_freq = (2*math.pi)/11.\n",
    "guess_amp = 1\n",
    "\n",
    "g1 = guess_std*np.sin(t+guess_phase) + guess_mean\n",
    "\n",
    "nphase = 21\n",
    "nfreq = 21\n",
    "\n",
    "d = {'data': data,'g1':g1}\n",
    "# Frequency\n",
    "for i in range(1,nfreq) :\n",
    "    guess_freq = (2*math.pi)/float(i)\n",
    "\n",
    "    # phase\n",
    "    for j in range(0,nphase) :\n",
    "        d['f%dp%d'%(i,j)] = guess_std*np.sin(guess_freq*t+j) + guess_mean\n",
    "\n",
    "df = pd.DataFrame(data=d)\n",
    "\n",
    "corrs = np.zeros((nfreq,nphase))\n",
    "\n",
    "for i in range(1,nfreq) :\n",
    "    for j in range(0,nphase) :\n",
    "        corr = df['data'].corr(df['f%dp%d'%(i,j)])\n",
    "        #print(i,j,'%.02f'%(corr) )\n",
    "        corrs[i][j] = corr\n",
    "\n",
    "#print(corrs)\n",
    "plt.imshow(corrs, cmap='hot',vmin=-0.5,vmax=0.5 )\n",
    "plt.colorbar()\n",
    "plt.xlabel('phase')\n",
    "plt.ylabel('frequency')\n",
    "plt.show()"
   ]
  },
  {
   "cell_type": "code",
   "execution_count": null,
   "metadata": {},
   "outputs": [],
   "source": []
  }
 ],
 "metadata": {
  "kernelspec": {
   "display_name": "Python 3",
   "language": "python",
   "name": "python3"
  },
  "language_info": {
   "codemirror_mode": {
    "name": "ipython",
    "version": 3
   },
   "file_extension": ".py",
   "mimetype": "text/x-python",
   "name": "python",
   "nbconvert_exporter": "python",
   "pygments_lexer": "ipython3",
   "version": "3.7.7"
  }
 },
 "nbformat": 4,
 "nbformat_minor": 2
}
